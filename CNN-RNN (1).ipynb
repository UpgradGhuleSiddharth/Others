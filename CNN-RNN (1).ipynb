{
 "cells": [
  {
   "cell_type": "markdown",
   "metadata": {
    "id": "KnM0szEz3a6O"
   },
   "source": [
    "# Gesture Recognition\n",
    "In this group project, you are going to build a 3D Conv model that will be able to predict the 5 gestures correctly. Please import the following libraries to get started."
   ]
  },
  {
   "cell_type": "markdown",
   "metadata": {
    "id": "1ksr2_0USTRW"
   },
   "source": [
    "# Import Libraries"
   ]
  },
  {
   "cell_type": "code",
   "execution_count": 1,
   "metadata": {
    "id": "pPwTESvD3a6V"
   },
   "outputs": [],
   "source": [
    "import numpy as np\n",
    "import os\n",
    "from imageio import imread\n",
    "from skimage.transform import resize\n",
    "import datetime\n",
    "import os"
   ]
  },
  {
   "cell_type": "markdown",
   "metadata": {
    "id": "qbi2jUzS3a6X"
   },
   "source": [
    "We set the random seed so that the results don't vary drastically."
   ]
  },
  {
   "cell_type": "code",
   "execution_count": 2,
   "metadata": {
    "id": "KYZ8ZrDP3a6Y"
   },
   "outputs": [],
   "source": [
    "np.random.seed(30)\n",
    "import random as rn\n",
    "rn.seed(30)\n",
    "from keras import backend as K\n",
    "import tensorflow as tf\n",
    "tf.random.set_seed(30)"
   ]
  },
  {
   "cell_type": "markdown",
   "metadata": {
    "id": "MBMGevUD3a6Z"
   },
   "source": [
    "In this block, you read the folder names for training and validation. You also set the `batch_size` here. Note that you set the batch size in such a way that you are able to use the GPU in full capacity. You keep increasing the batch size until the machine throws an error."
   ]
  },
  {
   "cell_type": "code",
   "execution_count": 3,
   "metadata": {
    "id": "vK4XAtCp3a6Z"
   },
   "outputs": [],
   "source": [
    "train_doc = np.random.permutation(open('/home/datasets/Project_data/train.csv').readlines())\n",
    "val_doc = np.random.permutation(open('/home/datasets/Project_data/val.csv').readlines())\n",
    "batch_size = 50 #experiment with the batch size"
   ]
  },
  {
   "cell_type": "markdown",
   "metadata": {
    "id": "ZhW44Ulm3a6a"
   },
   "source": [
    "# Generator\n",
    "This is one of the most important part of the code. The overall structure of the generator has been given. In the generator, you are going to preprocess the images as you have images of 2 different dimensions as well as create a batch of video frames. You have to experiment with `img_idx`, `y`,`z` and normalization such that you get high accuracy."
   ]
  },
  {
   "cell_type": "code",
   "execution_count": 4,
   "metadata": {
    "id": "ZaEXfVPS3a6b"
   },
   "outputs": [],
   "source": [
    "img_idx = range(0,30,1) #create a list of image numbers you want to use for a particular video\n",
    "x=len(img_idx)\n",
    "y=128\n",
    "z=128\n",
    "\n",
    "def generator(source_path, folder_list, batch_size):\n",
    "    print( 'Source path = ', source_path, '; batch size =', batch_size)\n",
    "    \n",
    "    while True:\n",
    "        t = np.random.permutation(folder_list)\n",
    "        num_batches = len(folder_list)//batch_size # calculate the number of batches\n",
    "        for batch in range(num_batches): # we iterate over the number of batches\n",
    "            batch_data = np.zeros((batch_size,x,y,z,3)) # x is the number of images you use for each video, (y,z) is the final size of the input images and 3 is the number of channels RGB\n",
    "            batch_labels = np.zeros((batch_size,5)) # batch_labels is the one hot representation of the output\n",
    "            for folder in range(batch_size): # iterate over the batch_size\n",
    "                imgs = os.listdir(source_path+'/'+ t[folder + (batch*batch_size)].split(';')[0]) # read all the images in the folder\n",
    "                for idx,item in enumerate(img_idx): #  Iterate iver the frames/images of a folder to read them in\n",
    "                    image = imread(source_path+'/'+ t[folder + (batch*batch_size)].strip().split(';')[0]+'/'+imgs[item]).astype(np.float32)\n",
    "                    \n",
    "                    #crop the images and resize them. Note that the images are of 2 different shape \n",
    "                    #and the conv3D will throw error if the inputs in a batch have different shapes\n",
    "                    \n",
    "                    image=resize(image,(y,z))\n",
    "                    batch_data[folder,idx,:,:,0] = image[:,:,0]/255. #normalise and feed in the image\n",
    "                    batch_data[folder,idx,:,:,1] = image[:,:,1]/255. #normalise and feed in the image\n",
    "                    batch_data[folder,idx,:,:,2] = image[:,:,2]/255. #normalise and feed in the image\n",
    "                    \n",
    "                batch_labels[folder, int(t[folder + (batch*batch_size)].strip().split(';')[2])] = 1\n",
    "            yield batch_data, batch_labels #you yield the batch_data and the batch_labels, remember what does yield do\n",
    "\n",
    "        \n",
    "        # write the code for the remaining data points which are left after full batches\n",
    "        batch_data = np.zeros((len(folder_list)%batch_size,x,y,z,3)) # x is the number of images you use for each video, (y,z) is the final size of the input images and 3 is the number of channels RGB\n",
    "        batch_labels = np.zeros((len(folder_list)%batch_size,5)) # batch_labels is the one hot representation of the output    \n",
    "        for folder in range(len(folder_list)%batch_size):\n",
    "          imgs = os.listdir(source_path+'/'+ t[folder + (num_batches*batch_size)].split(';')[0]) # read all the images in the folder\n",
    "          for idx,item in enumerate(img_idx): #  Iterate iver the frames/images of a folder to read them in\n",
    "              image = imread(source_path+'/'+ t[folder + (num_batches*batch_size)].strip().split(';')[0]+'/'+imgs[item]).astype(np.float32)\n",
    "              \n",
    "              #crop the images and resize them. Note that the images are of 2 different shape \n",
    "              #and the conv3D will throw error if the inputs in a batch have different shapes\n",
    "              \n",
    "              image=resize(image,(y,z))\n",
    "              batch_data[folder,idx,:,:,0] = image[:,:,0]/255. #normalise and feed in the image\n",
    "              batch_data[folder,idx,:,:,1] = image[:,:,1]/255. #normalise and feed in the image\n",
    "              batch_data[folder,idx,:,:,2] = image[:,:,2]/255. #normalise and feed in the image\n",
    "                    \n",
    "              \n",
    "          batch_labels[folder, int(t[folder + (num_batches*batch_size)].strip().split(';')[2])] = 1\n",
    "        yield batch_data, batch_labels #you yield the batch_data and the batch_labels, remember what does yield do\n"
   ]
  },
  {
   "cell_type": "markdown",
   "metadata": {
    "id": "zZIf3QVy3a6d"
   },
   "source": [
    "Note here that a video is represented above in the generator as (number of images, height, width, number of channels). Take this into consideration while creating the model architecture."
   ]
  },
  {
   "cell_type": "code",
   "execution_count": 5,
   "metadata": {
    "colab": {
     "base_uri": "https://localhost:8080/"
    },
    "id": "xs0hkRo83a6e",
    "outputId": "4af45b30-2d4b-42f5-ad78-7aafe30f63f3"
   },
   "outputs": [
    {
     "name": "stdout",
     "output_type": "stream",
     "text": [
      "# training sequences = 663\n",
      "# validation sequences = 100\n",
      "# epochs = 25\n"
     ]
    }
   ],
   "source": [
    "curr_dt_time = datetime.datetime.now()\n",
    "train_path = '/home/datasets/Project_data/train'\n",
    "val_path = '/home/datasets/Project_data/val'\n",
    "num_train_sequences = len(train_doc)\n",
    "print('# training sequences =', num_train_sequences)\n",
    "num_val_sequences = len(val_doc)\n",
    "print('# validation sequences =', num_val_sequences)\n",
    "num_epochs = 25 # choose the number of epochs\n",
    "print ('# epochs =', num_epochs)"
   ]
  },
  {
   "cell_type": "markdown",
   "metadata": {
    "id": "QZI4RKmP3a6f"
   },
   "source": [
    "## Model\n",
    "Here you make the model using different functionalities that Keras provides. Remember to use `Conv3D` and `MaxPooling3D` and not `Conv2D` and `Maxpooling2D` for a 3D convolution model. You would want to use `TimeDistributed` while building a Conv2D + RNN model. Also remember that the last layer is the softmax. Design the network in such a way that the model is able to give good accuracy on the least number of parameters so that it can fit in the memory of the webcam."
   ]
  },
  {
   "cell_type": "code",
   "execution_count": 6,
   "metadata": {
    "id": "2ctTwKo83a6g"
   },
   "outputs": [
    {
     "name": "stderr",
     "output_type": "stream",
     "text": [
      "2022-07-08 17:59:25.833241: W tensorflow/core/common_runtime/gpu/gpu_bfc_allocator.cc:39] Overriding allow_growth setting because the TF_FORCE_GPU_ALLOW_GROWTH environment variable is set. Original config value was 0.\n",
      "2022-07-08 17:59:25.833310: I tensorflow/core/common_runtime/gpu/gpu_device.cc:1525] Created device /job:localhost/replica:0/task:0/device:GPU:0 with 14803 MB memory:  -> device: 0, name: Quadro RTX 5000, pci bus id: 0000:1d:00.0, compute capability: 7.5\n"
     ]
    }
   ],
   "source": [
    "from keras.models import Sequential, Model\n",
    "from keras.layers import Dense, LSTM, GRU, Flatten, TimeDistributed, Flatten, BatchNormalization, Activation, Dropout,GlobalAveragePooling2D\n",
    "from keras.layers.convolutional import Conv3D, MaxPooling3D, Conv2D, MaxPooling2D\n",
    "from keras.callbacks import ModelCheckpoint, ReduceLROnPlateau\n",
    "from keras import optimizers\n",
    "from tensorflow.keras.applications import InceptionV3\n",
    "\n",
    "#write your model here\n",
    "\n",
    "base_model = InceptionV3(weights='imagenet',input_shape=(y,z,3),include_top=False)\n",
    "base_model.trainable = False\n",
    "\n",
    "model = Sequential()\n",
    "model.add(TimeDistributed(base_model,input_shape=(len(img_idx),y,z,3)))\n",
    "model.add(TimeDistributed(BatchNormalization()))\n",
    "model.add(TimeDistributed(Dropout(0.5)))\n",
    "model.add(TimeDistributed(GlobalAveragePooling2D()))\n",
    "model.add(TimeDistributed(BatchNormalization()))\n",
    "model.add(TimeDistributed(Flatten()))\n",
    "model.add(TimeDistributed(BatchNormalization()))\n",
    "model.add(TimeDistributed(Dropout(0.5)))\n",
    "model.add(LSTM(128,dropout=0.5))\n",
    "model.add(BatchNormalization())\n",
    "model.add(Dropout(0.5))\n",
    "model.add(Dense(32))\n",
    "model.add(BatchNormalization())\n",
    "model.add(Dropout(0.5))\n",
    "model.add(Dense(5, activation='softmax'))"
   ]
  },
  {
   "cell_type": "markdown",
   "metadata": {
    "id": "kMb1tldp3a6g"
   },
   "source": [
    "Now that you have written the model, the next step is to `compile` the model. When you print the `summary` of the model, you'll see the total number of parameters you have to train."
   ]
  },
  {
   "cell_type": "code",
   "execution_count": 7,
   "metadata": {
    "colab": {
     "base_uri": "https://localhost:8080/"
    },
    "id": "KLzkWcIN3a6h",
    "outputId": "201650c2-695c-4c73-f23a-1c5a03b69298",
    "scrolled": true
   },
   "outputs": [
    {
     "name": "stdout",
     "output_type": "stream",
     "text": [
      "Model: \"sequential\"\n",
      "_________________________________________________________________\n",
      " Layer (type)                Output Shape              Param #   \n",
      "=================================================================\n",
      " time_distributed (TimeDistr  (None, 30, 2, 2, 2048)   21802784  \n",
      " ibuted)                                                         \n",
      "                                                                 \n",
      " time_distributed_1 (TimeDis  (None, 30, 2, 2, 2048)   8192      \n",
      " tributed)                                                       \n",
      "                                                                 \n",
      " time_distributed_2 (TimeDis  (None, 30, 2, 2, 2048)   0         \n",
      " tributed)                                                       \n",
      "                                                                 \n",
      " time_distributed_3 (TimeDis  (None, 30, 2048)         0         \n",
      " tributed)                                                       \n",
      "                                                                 \n",
      " time_distributed_4 (TimeDis  (None, 30, 2048)         8192      \n",
      " tributed)                                                       \n",
      "                                                                 \n",
      " time_distributed_5 (TimeDis  (None, 30, 2048)         0         \n",
      " tributed)                                                       \n",
      "                                                                 \n",
      " time_distributed_6 (TimeDis  (None, 30, 2048)         8192      \n",
      " tributed)                                                       \n",
      "                                                                 \n",
      " time_distributed_7 (TimeDis  (None, 30, 2048)         0         \n",
      " tributed)                                                       \n",
      "                                                                 \n",
      " lstm (LSTM)                 (None, 128)               1114624   \n",
      "                                                                 \n",
      " batch_normalization_97 (Bat  (None, 128)              512       \n",
      " chNormalization)                                                \n",
      "                                                                 \n",
      " dropout_2 (Dropout)         (None, 128)               0         \n",
      "                                                                 \n",
      " dense (Dense)               (None, 32)                4128      \n",
      "                                                                 \n",
      " batch_normalization_98 (Bat  (None, 32)               128       \n",
      " chNormalization)                                                \n",
      "                                                                 \n",
      " dropout_3 (Dropout)         (None, 32)                0         \n",
      "                                                                 \n",
      " dense_1 (Dense)             (None, 5)                 165       \n",
      "                                                                 \n",
      "=================================================================\n",
      "Total params: 22,946,917\n",
      "Trainable params: 1,131,525\n",
      "Non-trainable params: 21,815,392\n",
      "_________________________________________________________________\n",
      "None\n"
     ]
    },
    {
     "name": "stderr",
     "output_type": "stream",
     "text": [
      "/usr/local/lib/python3.8/dist-packages/keras/optimizer_v2/adam.py:105: UserWarning: The `lr` argument is deprecated, use `learning_rate` instead.\n",
      "  super(Adam, self).__init__(name, **kwargs)\n"
     ]
    }
   ],
   "source": [
    "optimiser = tf.keras.optimizers.Adam(lr=0.01) #write your optimizer\n",
    "model.compile(optimizer=optimiser, loss='categorical_crossentropy', metrics=['categorical_accuracy'])\n",
    "print (model.summary())"
   ]
  },
  {
   "cell_type": "markdown",
   "metadata": {
    "id": "L3gZ_zfe3a6h"
   },
   "source": [
    "Let us create the `train_generator` and the `val_generator` which will be used in `.fit_generator`."
   ]
  },
  {
   "cell_type": "code",
   "execution_count": 8,
   "metadata": {
    "id": "d0XV3Bss3a6i"
   },
   "outputs": [],
   "source": [
    "train_generator = generator(train_path, train_doc, batch_size)\n",
    "val_generator = generator(val_path, val_doc, batch_size)"
   ]
  },
  {
   "cell_type": "code",
   "execution_count": 9,
   "metadata": {
    "id": "8ykG4BxCt02E"
   },
   "outputs": [],
   "source": [
    "!rm -rf model"
   ]
  },
  {
   "cell_type": "code",
   "execution_count": 10,
   "metadata": {
    "id": "8s1TEiWp3a6i"
   },
   "outputs": [],
   "source": [
    "# model_name = 'model_init' + '_' + str(curr_dt_time).replace(' ','').replace(':','_') + '/'\n",
    "model_name = 'model/'\n",
    "\n",
    "if not os.path.exists(model_name):\n",
    "    os.mkdir(model_name)\n",
    "        \n",
    "filepath = model_name + 'model-{epoch:02d}-{categorical_accuracy:.2f}-{val_categorical_accuracy:.2f}.h5'\n",
    "\n",
    "checkpoint = ModelCheckpoint(filepath, monitor='val_categorical_accuracy', verbose=1, save_best_only=True, save_weights_only=False, mode='auto')\n",
    "\n",
    "LR = ReduceLROnPlateau(monitor='val_categorical_accuracy', factor=0.5, patience=2, min_lr=0.0001)# write the REducelronplateau code here\n",
    "callbacks_list = [checkpoint, LR]"
   ]
  },
  {
   "cell_type": "markdown",
   "metadata": {
    "id": "ZOkeXQiG3a6i"
   },
   "source": [
    "The `steps_per_epoch` and `validation_steps` are used by `fit_generator` to decide the number of next() calls it need to make."
   ]
  },
  {
   "cell_type": "code",
   "execution_count": 11,
   "metadata": {
    "id": "QPbkLLmc3a6j"
   },
   "outputs": [],
   "source": [
    "if (num_train_sequences%batch_size) == 0:\n",
    "    steps_per_epoch = int(num_train_sequences/batch_size)\n",
    "else:\n",
    "    steps_per_epoch = (num_train_sequences//batch_size) + 1\n",
    "\n",
    "if (num_val_sequences%batch_size) == 0:\n",
    "    validation_steps = int(num_val_sequences/batch_size)\n",
    "else:\n",
    "    validation_steps = (num_val_sequences//batch_size) + 1"
   ]
  },
  {
   "cell_type": "markdown",
   "metadata": {
    "id": "25Z2sH4m3a6j"
   },
   "source": [
    "Let us now fit the model. This will start training the model and with the help of the checkpoints, you'll be able to save the model at the end of each epoch."
   ]
  },
  {
   "cell_type": "code",
   "execution_count": 12,
   "metadata": {
    "colab": {
     "base_uri": "https://localhost:8080/"
    },
    "id": "rm104T9J3a6j",
    "outputId": "8ec49431-b931-4a26-8b9d-6ffe34dfc211"
   },
   "outputs": [
    {
     "name": "stdout",
     "output_type": "stream",
     "text": [
      "Source path =  /home/datasets/Project_data/train ; batch size = 50\n",
      "Epoch 1/25\n"
     ]
    },
    {
     "name": "stderr",
     "output_type": "stream",
     "text": [
      "2022-07-08 17:59:46.855174: I tensorflow/stream_executor/cuda/cuda_dnn.cc:377] Loaded cuDNN version 8302\n"
     ]
    },
    {
     "name": "stdout",
     "output_type": "stream",
     "text": [
      "14/14 [==============================] - ETA: 0s - loss: 1.8488 - categorical_accuracy: 0.3575Source path =  /home/datasets/Project_data/val ; batch size = 50\n",
      "\n",
      "Epoch 00001: val_categorical_accuracy improved from -inf to 0.41000, saving model to model/model-01-0.36-0.41.h5\n",
      "14/14 [==============================] - 161s 11s/step - loss: 1.8488 - categorical_accuracy: 0.3575 - val_loss: 1.3886 - val_categorical_accuracy: 0.4100 - lr: 0.0100\n",
      "Epoch 2/25\n",
      "14/14 [==============================] - ETA: 0s - loss: 1.2378 - categorical_accuracy: 0.5294 \n",
      "Epoch 00002: val_categorical_accuracy did not improve from 0.41000\n",
      "14/14 [==============================] - 149s 11s/step - loss: 1.2378 - categorical_accuracy: 0.5294 - val_loss: 1.3362 - val_categorical_accuracy: 0.4000 - lr: 0.0100\n",
      "Epoch 3/25\n",
      "14/14 [==============================] - ETA: 0s - loss: 1.1698 - categorical_accuracy: 0.5551 \n",
      "Epoch 00003: val_categorical_accuracy improved from 0.41000 to 0.43000, saving model to model/model-03-0.56-0.43.h5\n",
      "14/14 [==============================] - 151s 12s/step - loss: 1.1698 - categorical_accuracy: 0.5551 - val_loss: 1.2153 - val_categorical_accuracy: 0.4300 - lr: 0.0100\n",
      "Epoch 4/25\n",
      "14/14 [==============================] - ETA: 0s - loss: 1.0656 - categorical_accuracy: 0.5762 \n",
      "Epoch 00004: val_categorical_accuracy improved from 0.43000 to 0.57000, saving model to model/model-04-0.58-0.57.h5\n",
      "14/14 [==============================] - 149s 11s/step - loss: 1.0656 - categorical_accuracy: 0.5762 - val_loss: 1.0871 - val_categorical_accuracy: 0.5700 - lr: 0.0100\n",
      "Epoch 5/25\n",
      "14/14 [==============================] - ETA: 0s - loss: 0.9641 - categorical_accuracy: 0.6335 \n",
      "Epoch 00005: val_categorical_accuracy did not improve from 0.57000\n",
      "14/14 [==============================] - 150s 12s/step - loss: 0.9641 - categorical_accuracy: 0.6335 - val_loss: 1.0172 - val_categorical_accuracy: 0.5500 - lr: 0.0100\n",
      "Epoch 6/25\n",
      "14/14 [==============================] - ETA: 0s - loss: 0.8934 - categorical_accuracy: 0.6682 \n",
      "Epoch 00006: val_categorical_accuracy improved from 0.57000 to 0.63000, saving model to model/model-06-0.67-0.63.h5\n",
      "14/14 [==============================] - 152s 12s/step - loss: 0.8934 - categorical_accuracy: 0.6682 - val_loss: 0.9284 - val_categorical_accuracy: 0.6300 - lr: 0.0100\n",
      "Epoch 7/25\n",
      "14/14 [==============================] - ETA: 0s - loss: 0.8298 - categorical_accuracy: 0.6682 \n",
      "Epoch 00007: val_categorical_accuracy did not improve from 0.63000\n",
      "14/14 [==============================] - 150s 12s/step - loss: 0.8298 - categorical_accuracy: 0.6682 - val_loss: 0.9206 - val_categorical_accuracy: 0.6200 - lr: 0.0100\n",
      "Epoch 8/25\n",
      "14/14 [==============================] - ETA: 0s - loss: 0.7747 - categorical_accuracy: 0.6953 \n",
      "Epoch 00008: val_categorical_accuracy did not improve from 0.63000\n",
      "14/14 [==============================] - 149s 11s/step - loss: 0.7747 - categorical_accuracy: 0.6953 - val_loss: 1.0403 - val_categorical_accuracy: 0.6200 - lr: 0.0100\n",
      "Epoch 9/25\n",
      "14/14 [==============================] - ETA: 0s - loss: 0.7728 - categorical_accuracy: 0.7195 \n",
      "Epoch 00009: val_categorical_accuracy did not improve from 0.63000\n",
      "14/14 [==============================] - 149s 11s/step - loss: 0.7728 - categorical_accuracy: 0.7195 - val_loss: 0.9995 - val_categorical_accuracy: 0.6200 - lr: 0.0050\n",
      "Epoch 10/25\n",
      "14/14 [==============================] - ETA: 0s - loss: 0.7078 - categorical_accuracy: 0.7376 \n",
      "Epoch 00010: val_categorical_accuracy improved from 0.63000 to 0.64000, saving model to model/model-10-0.74-0.64.h5\n",
      "14/14 [==============================] - 151s 12s/step - loss: 0.7078 - categorical_accuracy: 0.7376 - val_loss: 0.9702 - val_categorical_accuracy: 0.6400 - lr: 0.0050\n",
      "Epoch 11/25\n",
      "14/14 [==============================] - ETA: 0s - loss: 0.6627 - categorical_accuracy: 0.7722 \n",
      "Epoch 00011: val_categorical_accuracy improved from 0.64000 to 0.65000, saving model to model/model-11-0.77-0.65.h5\n",
      "14/14 [==============================] - 152s 12s/step - loss: 0.6627 - categorical_accuracy: 0.7722 - val_loss: 0.9809 - val_categorical_accuracy: 0.6500 - lr: 0.0050\n",
      "Epoch 12/25\n",
      "14/14 [==============================] - ETA: 0s - loss: 0.6192 - categorical_accuracy: 0.7692 \n",
      "Epoch 00012: val_categorical_accuracy improved from 0.65000 to 0.66000, saving model to model/model-12-0.77-0.66.h5\n",
      "14/14 [==============================] - 149s 11s/step - loss: 0.6192 - categorical_accuracy: 0.7692 - val_loss: 0.9800 - val_categorical_accuracy: 0.6600 - lr: 0.0050\n",
      "Epoch 13/25\n",
      "14/14 [==============================] - ETA: 0s - loss: 0.6153 - categorical_accuracy: 0.7843 \n",
      "Epoch 00013: val_categorical_accuracy did not improve from 0.66000\n",
      "14/14 [==============================] - 149s 11s/step - loss: 0.6153 - categorical_accuracy: 0.7843 - val_loss: 0.9985 - val_categorical_accuracy: 0.6300 - lr: 0.0050\n",
      "Epoch 14/25\n",
      "14/14 [==============================] - ETA: 0s - loss: 0.6054 - categorical_accuracy: 0.7919 \n",
      "Epoch 00014: val_categorical_accuracy did not improve from 0.66000\n",
      "14/14 [==============================] - 150s 11s/step - loss: 0.6054 - categorical_accuracy: 0.7919 - val_loss: 0.9567 - val_categorical_accuracy: 0.6200 - lr: 0.0050\n",
      "Epoch 15/25\n",
      "14/14 [==============================] - ETA: 0s - loss: 0.5833 - categorical_accuracy: 0.7888 \n",
      "Epoch 00015: val_categorical_accuracy did not improve from 0.66000\n",
      "14/14 [==============================] - 149s 11s/step - loss: 0.5833 - categorical_accuracy: 0.7888 - val_loss: 0.9511 - val_categorical_accuracy: 0.6400 - lr: 0.0025\n",
      "Epoch 16/25\n",
      "14/14 [==============================] - ETA: 0s - loss: 0.5457 - categorical_accuracy: 0.7903 \n",
      "Epoch 00016: val_categorical_accuracy did not improve from 0.66000\n",
      "14/14 [==============================] - 149s 11s/step - loss: 0.5457 - categorical_accuracy: 0.7903 - val_loss: 0.9688 - val_categorical_accuracy: 0.6300 - lr: 0.0025\n",
      "Epoch 17/25\n",
      "14/14 [==============================] - ETA: 0s - loss: 0.5480 - categorical_accuracy: 0.8009 \n",
      "Epoch 00017: val_categorical_accuracy did not improve from 0.66000\n",
      "14/14 [==============================] - 149s 11s/step - loss: 0.5480 - categorical_accuracy: 0.8009 - val_loss: 0.9552 - val_categorical_accuracy: 0.6300 - lr: 0.0012\n",
      "Epoch 18/25\n",
      "14/14 [==============================] - ETA: 0s - loss: 0.5548 - categorical_accuracy: 0.7888 \n",
      "Epoch 00018: val_categorical_accuracy did not improve from 0.66000\n",
      "14/14 [==============================] - 150s 12s/step - loss: 0.5548 - categorical_accuracy: 0.7888 - val_loss: 0.9380 - val_categorical_accuracy: 0.6400 - lr: 0.0012\n",
      "Epoch 19/25\n",
      "14/14 [==============================] - ETA: 0s - loss: 0.5287 - categorical_accuracy: 0.8145 \n",
      "Epoch 00019: val_categorical_accuracy did not improve from 0.66000\n",
      "14/14 [==============================] - 150s 12s/step - loss: 0.5287 - categorical_accuracy: 0.8145 - val_loss: 0.9425 - val_categorical_accuracy: 0.6500 - lr: 6.2500e-04\n",
      "Epoch 20/25\n",
      "14/14 [==============================] - ETA: 0s - loss: 0.5457 - categorical_accuracy: 0.7979 \n",
      "Epoch 00020: val_categorical_accuracy did not improve from 0.66000\n",
      "14/14 [==============================] - 150s 11s/step - loss: 0.5457 - categorical_accuracy: 0.7979 - val_loss: 0.9446 - val_categorical_accuracy: 0.6500 - lr: 6.2500e-04\n",
      "Epoch 21/25\n",
      "14/14 [==============================] - ETA: 0s - loss: 0.5371 - categorical_accuracy: 0.8130 \n",
      "Epoch 00021: val_categorical_accuracy did not improve from 0.66000\n",
      "14/14 [==============================] - 149s 11s/step - loss: 0.5371 - categorical_accuracy: 0.8130 - val_loss: 0.9492 - val_categorical_accuracy: 0.6500 - lr: 3.1250e-04\n",
      "Epoch 22/25\n",
      "14/14 [==============================] - ETA: 0s - loss: 0.5217 - categorical_accuracy: 0.8115 \n",
      "Epoch 00022: val_categorical_accuracy did not improve from 0.66000\n",
      "14/14 [==============================] - 149s 11s/step - loss: 0.5217 - categorical_accuracy: 0.8115 - val_loss: 0.9505 - val_categorical_accuracy: 0.6500 - lr: 3.1250e-04\n",
      "Epoch 23/25\n",
      "14/14 [==============================] - ETA: 0s - loss: 0.5341 - categorical_accuracy: 0.8069 \n",
      "Epoch 00023: val_categorical_accuracy did not improve from 0.66000\n",
      "14/14 [==============================] - 150s 12s/step - loss: 0.5341 - categorical_accuracy: 0.8069 - val_loss: 0.9511 - val_categorical_accuracy: 0.6600 - lr: 1.5625e-04\n",
      "Epoch 24/25\n",
      "14/14 [==============================] - ETA: 0s - loss: 0.4844 - categorical_accuracy: 0.8100 \n",
      "Epoch 00024: val_categorical_accuracy did not improve from 0.66000\n",
      "14/14 [==============================] - 150s 11s/step - loss: 0.4844 - categorical_accuracy: 0.8100 - val_loss: 0.9563 - val_categorical_accuracy: 0.6600 - lr: 1.5625e-04\n",
      "Epoch 25/25\n",
      "14/14 [==============================] - ETA: 0s - loss: 0.5267 - categorical_accuracy: 0.8311 \n",
      "Epoch 00025: val_categorical_accuracy improved from 0.66000 to 0.67000, saving model to model/model-25-0.83-0.67.h5\n",
      "14/14 [==============================] - 150s 11s/step - loss: 0.5267 - categorical_accuracy: 0.8311 - val_loss: 0.9581 - val_categorical_accuracy: 0.6700 - lr: 1.0000e-04\n"
     ]
    }
   ],
   "source": [
    "import warnings\n",
    "warnings.filterwarnings('ignore')\n",
    "\n",
    "history=model.fit_generator(train_generator, steps_per_epoch=steps_per_epoch, epochs=num_epochs, verbose=1, \n",
    "                    callbacks=callbacks_list, validation_data=val_generator, \n",
    "                    validation_steps=validation_steps, class_weight=None, workers=1, initial_epoch=0)"
   ]
  },
  {
   "cell_type": "code",
   "execution_count": 13,
   "metadata": {
    "id": "MYlRGYPxBcyj"
   },
   "outputs": [
    {
     "name": "stdout",
     "output_type": "stream",
     "text": [
      "[0.4099999964237213, 0.4000000059604645, 0.4300000071525574, 0.5699999928474426, 0.550000011920929, 0.6299999952316284, 0.6200000047683716, 0.6200000047683716, 0.6200000047683716, 0.6399999856948853, 0.6499999761581421, 0.6600000262260437, 0.6299999952316284, 0.6200000047683716, 0.6399999856948853, 0.6299999952316284, 0.6299999952316284, 0.6399999856948853, 0.6499999761581421, 0.6499999761581421, 0.6499999761581421, 0.6499999761581421, 0.6600000262260437, 0.6600000262260437, 0.6700000166893005]\n"
     ]
    }
   ],
   "source": [
    "print(history.history['val_categorical_accuracy'])"
   ]
  },
  {
   "cell_type": "code",
   "execution_count": null,
   "metadata": {
    "id": "VxRAMtOzBevj"
   },
   "outputs": [
    {
     "name": "stdout",
     "output_type": "stream",
     "text": [
      "Epoch 27/50\n",
      "14/14 [==============================] - ETA: 0s - loss: 0.5470 - categorical_accuracy: 0.7979\n",
      "Epoch 00027: val_categorical_accuracy improved from 0.67000 to 0.68000, saving model to model/model-27-0.80-0.68.h5\n",
      "14/14 [==============================] - 147s 11s/step - loss: 0.5470 - categorical_accuracy: 0.7979 - val_loss: 0.9541 - val_categorical_accuracy: 0.6800 - lr: 1.0000e-04\n",
      "Epoch 28/50\n",
      "14/14 [==============================] - ETA: 0s - loss: 0.4921 - categorical_accuracy: 0.8190\n",
      "Epoch 00028: val_categorical_accuracy did not improve from 0.68000\n",
      "14/14 [==============================] - 149s 11s/step - loss: 0.4921 - categorical_accuracy: 0.8190 - val_loss: 0.9553 - val_categorical_accuracy: 0.6800 - lr: 1.0000e-04\n",
      "Epoch 29/50\n",
      " 9/14 [==================>...........] - ETA: 51s - loss: 0.5452 - categorical_accuracy: 0.7956 "
     ]
    }
   ],
   "source": [
    "import warnings\n",
    "warnings.filterwarnings('ignore')\n",
    "\n",
    "history2=model.fit_generator(train_generator, steps_per_epoch=steps_per_epoch, epochs=50, verbose=1, \n",
    "                    callbacks=callbacks_list, validation_data=val_generator, \n",
    "                    validation_steps=validation_steps, class_weight=None, workers=1, initial_epoch=26)"
   ]
  },
  {
   "cell_type": "code",
   "execution_count": null,
   "metadata": {},
   "outputs": [],
   "source": []
  }
 ],
 "metadata": {
  "accelerator": "GPU",
  "colab": {
   "collapsed_sections": [],
   "name": "CNN-RNN.ipynb",
   "provenance": []
  },
  "gpuClass": "standard",
  "kernelspec": {
   "display_name": "Python 3 (ipykernel)",
   "language": "python",
   "name": "python3"
  },
  "language_info": {
   "codemirror_mode": {
    "name": "ipython",
    "version": 3
   },
   "file_extension": ".py",
   "mimetype": "text/x-python",
   "name": "python",
   "nbconvert_exporter": "python",
   "pygments_lexer": "ipython3",
   "version": "3.8.10"
  }
 },
 "nbformat": 4,
 "nbformat_minor": 4
}
